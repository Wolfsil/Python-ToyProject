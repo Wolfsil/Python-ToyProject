{
 "cells": [
  {
   "cell_type": "code",
   "execution_count": null,
   "metadata": {},
   "outputs": [],
   "source": [
    "import numpy as np \n",
    "import pandas as pd\n",
    "import matplotlib.pyplot as plt\n",
    "import seaborn as sns\n",
    "from sklearn.linear_model import ElasticNet\n",
    "from sklearn.metrics import mean_squared_error"
   ]
  },
  {
   "cell_type": "code",
   "execution_count": null,
   "metadata": {},
   "outputs": [],
   "source": [
    "def removeNullist(remove):\n",
    "    for i in remove:\n",
    "        nullList.remove(i)\n",
    "    print(nullList)"
   ]
  },
  {
   "cell_type": "code",
   "execution_count": null,
   "metadata": {},
   "outputs": [],
   "source": [
    "\n",
    "trainSet = pd.read_csv('트레인.csv')\n",
    "testSet = pd.read_csv('테스트.csv')"
   ]
  },
  {
   "cell_type": "code",
   "execution_count": null,
   "metadata": {},
   "outputs": [],
   "source": [
    "# print(trainSet.columns)\n",
    "# print(trainSet.head())\n",
    "print(trainSet.tail())\n",
    "# print(testSet.columns)\n",
    "# print(testSet.head())\n",
    "print(testSet.head())"
   ]
  },
  {
   "cell_type": "code",
   "execution_count": null,
   "metadata": {},
   "outputs": [],
   "source": [
    "trainSetId=trainSet[\"Id\"]\n",
    "testSetId=testSet[\"Id\"]\n",
    "testSet.drop(columns=[\"Id\"],inplace=True)\n",
    "trainSet.drop(columns=[\"Id\"],inplace=True)\n",
    "trainSetSize = len(trainSet)\n",
    "testSetSize = len(testSet)\n"
   ]
  },
  {
   "cell_type": "code",
   "execution_count": null,
   "metadata": {},
   "outputs": [],
   "source": [
    "plt.figure(figsize=(20,20))\n",
    "corrmat = trainSet.corr()\n",
    "sns.heatmap(corrmat,annot=True, annot_kws={\"size\": 10})"
   ]
  },
  {
   "cell_type": "code",
   "execution_count": null,
   "metadata": {},
   "outputs": [],
   "source": [
    "corrmat =(abs(corrmat)<=0.01)\n",
    "plt.figure(figsize=(10,10))\n",
    "sns.heatmap(corrmat,annot=True, annot_kws={\"size\": 20})\n",
    "#대부분 가격과 연관성이 있다. 0.01보다 적단건 10억짜리 집에 이 요소가 100%있어도 1000만원 정도란 의미다.\n",
    "#10억 있는 사람이 1000만원 때문에 집을 안사진 않는다."
   ]
  },
  {
   "cell_type": "code",
   "execution_count": null,
   "metadata": {},
   "outputs": [],
   "source": [
    "#굳이 y로그까진 필요 없을 듯하다. 이정도로 상관관계 변수들이 많다면, \n",
    "#괜히 각 요소의 영향력만 줄어들지도....(예를 들어 수영장 넓이가 커도 영향력은 작아보일지도 모른다.)\n",
    "trainAnswer = trainSet['SalePrice']\n",
    "\n",
    "trainSet.drop(['SalePrice'], axis=1, inplace=True)\n"
   ]
  },
  {
   "cell_type": "code",
   "execution_count": null,
   "metadata": {},
   "outputs": [],
   "source": [
    "# 같이 \n",
    "Set = pd.concat((trainSet, testSet), axis=0)"
   ]
  },
  {
   "cell_type": "code",
   "execution_count": null,
   "metadata": {},
   "outputs": [],
   "source": [
    "nullList=[]\n",
    "for i in list(Set):\n",
    "    if (Set[i].isnull().sum())>0:\n",
    "        nullList.append(i)\n",
    "print(nullList)"
   ]
  },
  {
   "cell_type": "code",
   "execution_count": null,
   "metadata": {},
   "outputs": [],
   "source": [
    "#일단 쓸모없는 애들부터 없애자.\n",
    "nuls = Set.isnull().sum() / len(Set )\n",
    "\n",
    "# 결혼상대로 따지면, 부모가 아랍석유부자인 것들.\n",
    "# 설령 가격에 영향을 끼쳐도 이런 특징을 가진 사람은 다른것에서도 특별하니 가려준다.\n",
    "# 예를 들면, 수영장이 있으면 당연히 집이 넓고, 차고도 있다.\n",
    "# (기호 시설의 영향력은 줄어든다고 볼수 있다. 다음부터 생각해볼것) \n",
    "# 팬스는 20프로는 있으니 넘어가줄수 있었지만....솔직히 팬스도 중산층 저택을 의미하니 다른 요소가 숨겨줄것이다.\n",
    "nuls[nuls >= 0.8]\n",
    "\n",
    "#여담이지만 앙상블 기법을 이용하거나, 차원 축소기법으로 복수의 데이터를 하나로 바꿔서 입력에 넣을까했지만\n",
    "#그렇게 되면 실제 서비스할때도 그런 구조로 입력값을 수정해야 하므로 대회에는 적합하지 않다(입력 방법이 정해져 있으니)"
   ]
  },
  {
   "cell_type": "code",
   "execution_count": null,
   "metadata": {},
   "outputs": [],
   "source": [
    "remove= nuls[nuls >= 0.8].keys()\n",
    "Set = Set.drop(remove, axis=1)\n",
    "#쓸모없는 데이터는 없애는 습관이 중요하다. "
   ]
  },
  {
   "cell_type": "code",
   "execution_count": null,
   "metadata": {},
   "outputs": [],
   "source": [
    "removeNullist(remove)"
   ]
  },
  {
   "cell_type": "code",
   "execution_count": null,
   "metadata": {},
   "outputs": [],
   "source": [
    "remove =('BsmtQual', 'BsmtCond', 'BsmtExposure', 'BsmtFinType1', 'BsmtFinType2',\n",
    "         'MasVnrType','FireplaceQu', 'GarageType', 'GarageFinish', 'GarageQual', 'GarageCond')\n",
    "for col in remove:\n",
    "    Set[col] = Set[col].fillna('None')\n",
    "removeNullist(remove)    "
   ]
  },
  {
   "cell_type": "code",
   "execution_count": null,
   "metadata": {},
   "outputs": [],
   "source": [
    "#면적이나 갯수 데이터가 없단건....그 시설이 없다고 봐도 무방할거라 생각한다.\n",
    "remove =('GarageYrBlt', 'GarageArea', 'GarageCars', 'BsmtFinSF1', 'BsmtFinSF2', 'BsmtUnfSF',\n",
    "         'TotalBsmtSF', 'BsmtFullBath', 'BsmtHalfBath', 'MasVnrArea','LotFrontage')\n",
    "for col in remove:\n",
    "    Set[col] = Set[col].fillna(0)\n",
    "removeNullist(remove)    "
   ]
  },
  {
   "cell_type": "code",
   "execution_count": null,
   "metadata": {},
   "outputs": [],
   "source": [
    "remove =('MSZoning', 'Utilities', 'Exterior1st', 'Exterior2nd', 'Electrical', 'KitchenQual', 'Functional', 'SaleType')\n",
    "for col in remove:\n",
    "    Set[col] = Set[col].fillna(Set[col].mode()[0])\n",
    "removeNullist(remove) \n",
    "#이것들은 이해가 안돼서 찾아본 결과, 시설 구조물은 평균이란게 있다고 가정한다. 예를 들어 부엌이 없는 곳은 고시촌 아님 없을 거다"
   ]
  },
  {
   "cell_type": "code",
   "execution_count": null,
   "metadata": {},
   "outputs": [],
   "source": [
    "oneHotneeds = Set.select_dtypes(include='object')\n",
    "numeric = Set.select_dtypes(exclude='object')\n"
   ]
  },
  {
   "cell_type": "code",
   "execution_count": null,
   "metadata": {},
   "outputs": [],
   "source": [
    "oneHotneeds = pd.get_dummies(oneHotneeds)\n",
    "for i in oneHotneeds.columns.to_list():\n",
    "    if \"None\" in i:\n",
    "        oneHotneeds.drop(i,axis=1,inplace=True)\n",
    "#내가 None이란 데이터를 추가한 아이들에겐 없애주는 과정이 필요하다. "
   ]
  },
  {
   "cell_type": "code",
   "execution_count": null,
   "metadata": {},
   "outputs": [],
   "source": [
    "Set=pd.concat([numeric,oneHotneeds],axis=1)\n",
    "processedTrain=Set[:trainSetSize]\n",
    "processedTest=Set[trainSetSize:]"
   ]
  },
  {
   "cell_type": "code",
   "execution_count": null,
   "metadata": {},
   "outputs": [],
   "source": [
    "elastic_net = ElasticNet(alpha=0.1, l1_ratio=0.8, random_state=45)\n",
    "elastic_net.fit(processedTrain, trainAnswer)\n"
   ]
  },
  {
   "cell_type": "code",
   "execution_count": null,
   "metadata": {},
   "outputs": [],
   "source": [
    "anwser=elastic_net.predict(processedTest)\n",
    "result=pd.DataFrame({'Id': testSetId.to_list(), 'SalePrice': anwser})"
   ]
  },
  {
   "cell_type": "code",
   "execution_count": null,
   "metadata": {},
   "outputs": [],
   "source": [
    "result.to_csv('submission.csv', index=False)\n",
    "#결과 자체는 나쁘지 않았으나 역시 전처리를 좀더 하거나 앙상블을 써보는 것도 좋았을 것 같다"
   ]
  }
 ],
 "metadata": {
  "kernelspec": {
   "display_name": "Python 3.10.4 ('env')",
   "language": "python",
   "name": "python3"
  },
  "language_info": {
   "codemirror_mode": {
    "name": "ipython",
    "version": 3
   },
   "file_extension": ".py",
   "mimetype": "text/x-python",
   "name": "python",
   "nbconvert_exporter": "python",
   "pygments_lexer": "ipython3",
   "version": "3.9.12"
  },
  "orig_nbformat": 4,
  "vscode": {
   "interpreter": {
    "hash": "dc407bb2b50143e22709a3cda124c29410e738a588b4fcd4beb748f4da074135"
   }
  }
 },
 "nbformat": 4,
 "nbformat_minor": 2
}
